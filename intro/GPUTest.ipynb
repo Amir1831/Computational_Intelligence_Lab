{
 "cells": [
  {
   "cell_type": "markdown",
   "id": "65d485d4-5694-4795-8729-9d621d20d08c",
   "metadata": {},
   "source": [
    "# GPU Test\n",
    "This notebook performs some tests to check GPU avalability to your envinronment.\n",
    "### Just Run All of the Cells"
   ]
  },
  {
   "cell_type": "code",
   "execution_count": 1,
   "id": "3facfede-4383-4081-b648-1f725688fa14",
   "metadata": {},
   "outputs": [
    {
     "name": "stderr",
     "output_type": "stream",
     "text": [
      "'nvidia-smi' is not recognized as an internal or external command,\n",
      "operable program or batch file.\n"
     ]
    }
   ],
   "source": [
    "# check driver and cuda version\n",
    "!nvidia-smi"
   ]
  },
  {
   "cell_type": "code",
   "execution_count": null,
   "id": "4dad6ec0-c66a-414a-979d-0f7a43718892",
   "metadata": {},
   "outputs": [],
   "source": [
    "# Check PyTorch's GPU access - this cell should print True if you have GPU\n",
    "import torch\n",
    "torch.cuda.is_available()"
   ]
  },
  {
   "cell_type": "code",
   "execution_count": null,
   "id": "52b290e1-3e0f-4732-930a-441507bca052",
   "metadata": {},
   "outputs": [],
   "source": [
    "# Check Tensorflow's GPU access - this cell should print a list of GPU names if you have GPU\n",
    "import tensorflow as tf\n",
    "print(tf.config.list_physical_devices('GPU'))"
   ]
  }
 ],
 "metadata": {
  "kernelspec": {
   "display_name": "Python 3 (ipykernel)",
   "language": "python",
   "name": "python3"
  },
  "language_info": {
   "codemirror_mode": {
    "name": "ipython",
    "version": 3
   },
   "file_extension": ".py",
   "mimetype": "text/x-python",
   "name": "python",
   "nbconvert_exporter": "python",
   "pygments_lexer": "ipython3",
   "version": "3.11.1"
  }
 },
 "nbformat": 4,
 "nbformat_minor": 5
}
