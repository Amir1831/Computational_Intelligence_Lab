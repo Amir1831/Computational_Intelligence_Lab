{
 "cells": [
  {
   "cell_type": "code",
   "execution_count": 1,
   "id": "88dca0bf-c969-445e-bb18-2dbc0fd4fd8c",
   "metadata": {},
   "outputs": [
    {
     "name": "stderr",
     "output_type": "stream",
     "text": [
      "/usr/local/lib/python3.10/dist-packages/tqdm/auto.py:21: TqdmWarning: IProgress not found. Please update jupyter and ipywidgets. See https://ipywidgets.readthedocs.io/en/stable/user_install.html\n",
      "  from .autonotebook import tqdm as notebook_tqdm\n"
     ]
    },
    {
     "name": "stdout",
     "output_type": "stream",
     "text": [
      "PyTorch version: 2.1.1+cu121\n",
      "torchvision version: 0.16.1+cu121\n"
     ]
    }
   ],
   "source": [
    "import torch \n",
    "from torch import nn\n",
    "\n",
    "# import torchvision\n",
    "import torchvision \n",
    "from torchvision import datasets\n",
    "from torchvision.transforms import ToTensor\n",
    "\n",
    "import matplotlib.pyplot as plt\n",
    "\n",
    "print(f\"PyTorch version: {torch.__version__}\\ntorchvision version: {torchvision.__version__}\")"
   ]
  },
  {
   "cell_type": "code",
   "execution_count": 2,
   "id": "ef42ca53-e3ce-4a19-830b-4591442e6d65",
   "metadata": {},
   "outputs": [],
   "source": [
    "train_data = datasets.FashionMNIST(\n",
    "    root = \"data\" , \n",
    "    train=True ,\n",
    "    download=True , \n",
    "    transform=ToTensor(),\n",
    "    target_transform=None\n",
    ")\n",
    "\n",
    "test_data = datasets.FashionMNIST(\n",
    "    root=\"data\",\n",
    "    train=False , \n",
    "    download=True , \n",
    "    transform = ToTensor()\n",
    ")\n"
   ]
  },
  {
   "cell_type": "code",
   "execution_count": 3,
   "id": "ab6094e9-f7a6-4b1b-a3e0-220832194a89",
   "metadata": {},
   "outputs": [
    {
     "data": {
      "text/plain": [
       "(torch.Size([1, 28, 28]), 9)"
      ]
     },
     "execution_count": 3,
     "metadata": {},
     "output_type": "execute_result"
    }
   ],
   "source": [
    "image , label = train_data[0]\n",
    "image.shape , label"
   ]
  },
  {
   "cell_type": "markdown",
   "id": "ad8b1382-a58c-4557-95ad-0904730236b0",
   "metadata": {},
   "source": [
    "image shape `[1, 28, 28]` -> [`color_channel`=1 ,`height`=28, `width`=28 ]"
   ]
  },
  {
   "cell_type": "code",
   "execution_count": 4,
   "id": "9428eb97-cb63-4cd6-96ce-d2ae0cb6b913",
   "metadata": {},
   "outputs": [
    {
     "data": {
      "text/plain": [
       "(60000, 10000, 60000, 10000)"
      ]
     },
     "execution_count": 4,
     "metadata": {},
     "output_type": "execute_result"
    }
   ],
   "source": [
    "# how many samples are there ?\n",
    "len(train_data.data) , len(test_data.data) , len(train_data.targets) , len(test_data.targets)"
   ]
  },
  {
   "cell_type": "code",
   "execution_count": 5,
   "id": "5368095f-5eda-4134-b224-1a2c04a59197",
   "metadata": {},
   "outputs": [
    {
     "data": {
      "text/plain": [
       "['T-shirt/top',\n",
       " 'Trouser',\n",
       " 'Pullover',\n",
       " 'Dress',\n",
       " 'Coat',\n",
       " 'Sandal',\n",
       " 'Shirt',\n",
       " 'Sneaker',\n",
       " 'Bag',\n",
       " 'Ankle boot']"
      ]
     },
     "execution_count": 5,
     "metadata": {},
     "output_type": "execute_result"
    }
   ],
   "source": [
    "class_names = train_data.classes\n",
    "class_names"
   ]
  },
  {
   "cell_type": "markdown",
   "id": "a8fa08a7-6a73-4b77-ab2a-974cf000b8d3",
   "metadata": {},
   "source": [
    "# Visualize data"
   ]
  },
  {
   "cell_type": "code",
   "execution_count": 6,
   "id": "e85cd0da-c2b6-4871-b631-8fd250f3fc47",
   "metadata": {},
   "outputs": [
    {
     "name": "stdout",
     "output_type": "stream",
     "text": [
      "Image shape : torch.Size([1, 28, 28])\n"
     ]
    },
    {
     "data": {
      "text/plain": [
       "<matplotlib.image.AxesImage at 0x7f287af9b8b0>"
      ]
     },
     "execution_count": 6,
     "metadata": {},
     "output_type": "execute_result"
    },
    {
     "data": {
      "image/png": "[encoded data removed]",
      "text/plain": [
       "<Figure size 640x480 with 1 Axes>"
      ]
     },
     "metadata": {},
     "output_type": "display_data"
    }
   ],
   "source": [
    "import matplotlib.pyplot as plt\n",
    "image , label = train_data[0]\n",
    "print(f\"Image shape : {image.shape}\")\n",
    "plt.imshow(image.reshape(28,28,1))"
   ]
  },
  {
   "cell_type": "code",
   "execution_count": 7,
   "id": "1d3b66ca-345c-419f-942d-31799042919a",
   "metadata": {},
   "outputs": [
    {
     "data": {
      "text/plain": [
       "<matplotlib.image.AxesImage at 0x7f28786a5ab0>"
      ]
     },
     "execution_count": 7,
     "metadata": {},
     "output_type": "execute_result"
    },
    {
     "data": {
      "image/png": "[encoded data removed]",
      "text/plain": [
       "<Figure size 640x480 with 1 Axes>"
      ]
     },
     "metadata": {},
     "output_type": "display_data"
    }
   ],
   "source": [
    "plt.imshow(image.permute(2,1,0))"
   ]
  },
  {
   "cell_type": "code",
   "execution_count": 8,
   "id": "0d6767f8-50be-49c7-ac3f-2aed36e64566",
   "metadata": {},
   "outputs": [
    {
     "data": {
      "text/plain": [
       "array([[[1],\n",
       "        [2],\n",
       "        [3]],\n",
       "\n",
       "       [[4],\n",
       "        [5],\n",
       "        [6]],\n",
       "\n",
       "       [[7],\n",
       "        [8],\n",
       "        [9]]])"
      ]
     },
     "execution_count": 8,
     "metadata": {},
     "output_type": "execute_result"
    }
   ],
   "source": [
    "import numpy as np\n",
    "x = np.arange(1,10).reshape(3,3,1)\n",
    "x\n"
   ]
  },
  {
   "cell_type": "code",
   "execution_count": 9,
   "id": "cc86ace1-61eb-42c2-aa77-71b0cff1937c",
   "metadata": {},
   "outputs": [
    {
     "data": {
      "text/plain": [
       "array([[[1, 2, 3],\n",
       "        [4, 5, 6],\n",
       "        [7, 8, 9]]])"
      ]
     },
     "execution_count": 9,
     "metadata": {},
     "output_type": "execute_result"
    }
   ],
   "source": [
    "x = x.reshape(1,3,3)\n",
    "x"
   ]
  },
  {
   "cell_type": "code",
   "execution_count": 10,
   "id": "2de68015-cb9a-4d84-9410-b4a97db5e23c",
   "metadata": {},
   "outputs": [
    {
     "data": {
      "text/plain": [
       "array([[[1],\n",
       "        [2],\n",
       "        [3]],\n",
       "\n",
       "       [[4],\n",
       "        [5],\n",
       "        [6]],\n",
       "\n",
       "       [[7],\n",
       "        [8],\n",
       "        [9]]])"
      ]
     },
     "execution_count": 10,
     "metadata": {},
     "output_type": "execute_result"
    }
   ],
   "source": [
    "x.reshape(3,3,1)"
   ]
  },
  {
   "cell_type": "code",
   "execution_count": 11,
   "id": "e6c413b8-f7e6-43c8-82f5-0936a68ab398",
   "metadata": {},
   "outputs": [
    {
     "data": {
      "text/plain": [
       "array([[[1],\n",
       "        [4],\n",
       "        [7]],\n",
       "\n",
       "       [[2],\n",
       "        [5],\n",
       "        [8]],\n",
       "\n",
       "       [[3],\n",
       "        [6],\n",
       "        [9]]])"
      ]
     },
     "execution_count": 11,
     "metadata": {},
     "output_type": "execute_result"
    }
   ],
   "source": [
    "x.transpose(2,1,0)"
   ]
  },
  {
   "cell_type": "code",
   "execution_count": 12,
   "id": "34c444d9-2d19-4436-b08e-ef721a0ef3fd",
   "metadata": {},
   "outputs": [
    {
     "data": {
      "image/png": "[encoded data removed]",
      "text/plain": [
       "<Figure size 900x900 with 16 Axes>"
      ]
     },
     "metadata": {},
     "output_type": "display_data"
    }
   ],
   "source": [
    "# Plot more images\n",
    "torch.manual_seed(42)\n",
    "fig = plt.figure(figsize=(9, 9))\n",
    "rows, cols = 4, 4\n",
    "for i in range(1, rows * cols + 1):\n",
    "    random_idx = torch.randint(0, len(train_data), size=[1]).item()\n",
    "    img, label = train_data[random_idx]\n",
    "    fig.add_subplot(rows, cols, i)\n",
    "    plt.imshow(img.squeeze(), cmap=\"gray\")\n",
    "    plt.title(class_names[label])\n",
    "    plt.axis(False);"
   ]
  },
  {
   "cell_type": "code",
   "execution_count": 13,
   "id": "f594817b-c86a-4fd5-b197-9afcc2ff75d4",
   "metadata": {},
   "outputs": [
    {
     "data": {
      "text/plain": [
       "60000"
      ]
     },
     "execution_count": 13,
     "metadata": {},
     "output_type": "execute_result"
    }
   ],
   "source": [
    "len(train_data)"
   ]
  },
  {
   "cell_type": "code",
   "execution_count": 15,
   "id": "fc3c89af-39df-4db6-b93b-0cf9836f5bf0",
   "metadata": {},
   "outputs": [
    {
     "data": {
      "text/plain": [
       "['image1', 'Label1']"
      ]
     },
     "execution_count": 15,
     "metadata": {},
     "output_type": "execute_result"
    }
   ],
   "source": [
    "train_data_x = [[\"image1\",\"Label1\"],[\"image2\",\"Label2\"],[\"image3\" , \"Label3\"],[\"image4\" , \"Label4\"]]\n",
    "next(iter(train_data_x))"
   ]
  },
  {
   "cell_type": "markdown",
   "id": "704ee805-badf-4e10-8162-a4b54557f1fb",
   "metadata": {},
   "source": [
    "## Undersatand `DataLoader`"
   ]
  },
  {
   "cell_type": "code",
   "execution_count": 16,
   "id": "3fcd285c-d176-44a9-90cc-821d6e355628",
   "metadata": {},
   "outputs": [],
   "source": [
    "from torch.utils.data import DataLoader\n",
    "\n",
    "# Setup the batch size htperparameter\n",
    "BATCH_SIZE = 2\n",
    "\n",
    "# Turn dataset into iterables (batches)\n",
    "train_dataloader = DataLoader(train_data_x , # Dataset to convert to iterabel \n",
    "                             batch_size=BATCH_SIZE, # How many samples per batches\n",
    "                             shuffle=True # Shuffle data every epoch ?\n",
    "                             )"
   ]
  },
  {
   "cell_type": "code",
   "execution_count": 25,
   "id": "4260caca-fffe-4e8e-a6f0-c5eada79bbdb",
   "metadata": {},
   "outputs": [
    {
     "name": "stdout",
     "output_type": "stream",
     "text": [
      "[('image3', 'image2'), ('Label3', 'Label2')]\n",
      "[('image4', 'image1'), ('Label4', 'Label1')]\n"
     ]
    }
   ],
   "source": [
    "for i in train_dataloader:\n",
    "    print(i)"
   ]
  },
  {
   "cell_type": "code",
   "execution_count": 26,
   "id": "bc1efd99-3411-44c8-bc4b-13e8c5273461",
   "metadata": {},
   "outputs": [
    {
     "name": "stdout",
     "output_type": "stream",
     "text": [
      "Dataloaders: (<torch.utils.data.dataloader.DataLoader object at 0x7f2874106e30>, <torch.utils.data.dataloader.DataLoader object at 0x7f2874107d90>)\n",
      "Length of train dataloader: 1875 batches of 32\n",
      "Length of test dataloader: 313 batches of 32\n"
     ]
    }
   ],
   "source": [
    "BATCH_SIZE = 32 \n",
    "\n",
    "# Turn dataset into iterables (batches)\n",
    "train_dataloader = DataLoader(train_data ,\n",
    "                            batch_size=BATCH_SIZE,\n",
    "                            shuffle=True\n",
    "                            )\n",
    "\n",
    "# Turn dataset into iterables (batches)\n",
    "test_dataloader = DataLoader(test_data ,\n",
    "                            batch_size=BATCH_SIZE,\n",
    "                            shuffle=True\n",
    "                            )\n",
    "\n",
    "# Let's check out what we've created\n",
    "print(f\"Dataloaders: {train_dataloader, test_dataloader}\") \n",
    "print(f\"Length of train dataloader: {len(train_dataloader)} batches of {BATCH_SIZE}\")\n",
    "print(f\"Length of test dataloader: {len(test_dataloader)} batches of {BATCH_SIZE}\")"
   ]
  },
  {
   "cell_type": "code",
   "execution_count": 27,
   "id": "c2938b16-d050-4526-ae50-91c64033cefa",
   "metadata": {},
   "outputs": [
    {
     "data": {
      "text/plain": [
       "(torch.Size([32, 1, 28, 28]), torch.Size([32]))"
      ]
     },
     "execution_count": 27,
     "metadata": {},
     "output_type": "execute_result"
    }
   ],
   "source": [
    "# check inside the dataloader \n",
    "train_features_batch , train_labels_batch = next(iter(train_dataloader))\n",
    "train_features_batch.shape , train_labels_batch.shape"
   ]
  },
  {
   "cell_type": "markdown",
   "id": "5fc6aa98-17a5-4c23-8d2a-da23d732d72d",
   "metadata": {},
   "source": [
    "# 3. Model 0 : Build a baseline model"
   ]
  },
  {
   "cell_type": "code",
   "execution_count": 79,
   "id": "3b3ee305-bdb0-4179-8ec9-540957ab5fe5",
   "metadata": {},
   "outputs": [],
   "source": [
    "from torch import nn\n",
    "class FashionMNISTModelV0(nn.Module):\n",
    "    def __init__(self,input_shape , hidden_units , output_shape):\n",
    "        super().__init__()\n",
    "        self.layer_stack = nn.Sequential(\n",
    "            nn.Flatten(),\n",
    "            nn.Linear(input_shape , hidden_units),\n",
    "            nn.Linear(hidden_units , output_shape)\n",
    "        )\n",
    "\n",
    "    def forward(self , x):\n",
    "        return nn.Softmax()(self.layer_stack(x))"
   ]
  },
  {
   "cell_type": "code",
   "execution_count": 80,
   "id": "dacbda0e-ea1d-435b-acab-4962b9283800",
   "metadata": {},
   "outputs": [
    {
     "data": {
      "text/plain": [
       "FashionMNISTModelV0(\n",
       "  (layer_stack): Sequential(\n",
       "    (0): Flatten(start_dim=1, end_dim=-1)\n",
       "    (1): Linear(in_features=784, out_features=10, bias=True)\n",
       "    (2): Linear(in_features=10, out_features=10, bias=True)\n",
       "  )\n",
       ")"
      ]
     },
     "execution_count": 80,
     "metadata": {},
     "output_type": "execute_result"
    }
   ],
   "source": [
    "torch.manual_seed(42)\n",
    "\n",
    "# Need to setup model with input parameters\n",
    "model_0 = FashionMNISTModelV0(input_shape=784 , # one for every pixel (28 * 28)\n",
    "                             hidden_units=10, # how many units in the hidden layer\n",
    "                             output_shape=len(class_names)) # one for every class\n",
    "\n",
    "model_0.to(\"cpu\") # keep model on CPU to begin "
   ]
  },
  {
   "cell_type": "code",
   "execution_count": 81,
   "id": "9f4d209b-bcf2-4922-9755-573e21ad1456",
   "metadata": {},
   "outputs": [
    {
     "name": "stdout",
     "output_type": "stream",
     "text": [
      "Parameter containing:\n",
      "tensor([[ 0.0273,  0.0296, -0.0084,  ..., -0.0142,  0.0093,  0.0135],\n",
      "        [-0.0188, -0.0354,  0.0187,  ..., -0.0106, -0.0001,  0.0115],\n",
      "        [-0.0008,  0.0017,  0.0045,  ..., -0.0127, -0.0188,  0.0059],\n",
      "        ...,\n",
      "        [-0.0116,  0.0273, -0.0344,  ...,  0.0176,  0.0283, -0.0011],\n",
      "        [-0.0230,  0.0257,  0.0291,  ..., -0.0187, -0.0087,  0.0001],\n",
      "        [ 0.0176, -0.0147,  0.0053,  ..., -0.0336, -0.0221,  0.0205]],\n",
      "       requires_grad=True)\n",
      "Parameter containing:\n",
      "tensor([-0.0093,  0.0283, -0.0033,  0.0255,  0.0017,  0.0037, -0.0302, -0.0123,\n",
      "         0.0018,  0.0163], requires_grad=True)\n",
      "Parameter containing:\n",
      "tensor([[ 0.0614, -0.0687,  0.0021,  0.2718,  0.2109,  0.1079, -0.2279, -0.1063,\n",
      "          0.2019,  0.2847],\n",
      "        [-0.1495,  0.1344, -0.0740,  0.2006, -0.0475, -0.2514, -0.3130, -0.0118,\n",
      "          0.0932, -0.1864],\n",
      "        [ 0.2488,  0.1500,  0.1907,  0.1457, -0.3050, -0.0580,  0.1643,  0.1565,\n",
      "         -0.2877, -0.1792],\n",
      "        [ 0.2305, -0.2618,  0.2397, -0.0610,  0.0232,  0.1542,  0.0851, -0.2027,\n",
      "          0.1030, -0.2715],\n",
      "        [-0.1596, -0.0555, -0.0633,  0.2302, -0.1726,  0.2654,  0.1473,  0.1029,\n",
      "          0.2252, -0.2160],\n",
      "        [-0.2725,  0.0118,  0.1559,  0.1596,  0.0132,  0.3024,  0.1124,  0.1366,\n",
      "         -0.1533,  0.0965],\n",
      "        [-0.1184, -0.2555, -0.2057, -0.1909, -0.0477, -0.1324,  0.2905,  0.1307,\n",
      "         -0.2629,  0.0133],\n",
      "        [ 0.2727, -0.0127,  0.0513,  0.0863, -0.1043, -0.2047, -0.1185, -0.0825,\n",
      "          0.2488, -0.2571],\n",
      "        [ 0.0425, -0.1209, -0.0336, -0.0281, -0.1227,  0.0730,  0.0747, -0.1816,\n",
      "          0.1943,  0.2853],\n",
      "        [-0.1310,  0.0645, -0.1171,  0.2168, -0.0245, -0.2820,  0.0736,  0.2621,\n",
      "          0.0012, -0.0810]], requires_grad=True)\n",
      "Parameter containing:\n",
      "tensor([-0.0087,  0.1791,  0.2712, -0.0791,  0.1685,  0.1762,  0.2825,  0.2266,\n",
      "        -0.2612, -0.2613], requires_grad=True)\n"
     ]
    }
   ],
   "source": [
    "for layer in model_0.parameters():\n",
    "    print(layer)\n",
    "    layer = 0"
   ]
  },
  {
   "cell_type": "markdown",
   "id": "4d250368-128e-48cc-b586-df291f3fd0b9",
   "metadata": {},
   "source": [
    "## setup loss , optimizer , and evaluation metrics"
   ]
  },
  {
   "cell_type": "code",
   "execution_count": 82,
   "id": "e887d53d-63ab-4801-b4cb-dfb603c69c73",
   "metadata": {},
   "outputs": [
    {
     "name": "stdout",
     "output_type": "stream",
     "text": [
      "helper_functions.py already exists, skipping download\n"
     ]
    }
   ],
   "source": [
    "import requests\n",
    "from pathlib import Path \n",
    "\n",
    "# Download helper functions from Learn PyTorch repo (if not already downloaded)\n",
    "if Path(\"helper_functions.py\").is_file():\n",
    "  print(\"helper_functions.py already exists, skipping download\")\n",
    "else:\n",
    "  print(\"Downloading helper_functions.py\")\n",
    "  # Note: you need the \"raw\" GitHub URL for this to work\n",
    "  request = requests.get(\"https://raw.githubusercontent.com/mrdbourke/pytorch-deep-learning/main/helper_functions.py\")\n",
    "  with open(\"helper_functions.py\", \"wb\") as f:\n",
    "    f.write(request.content)"
   ]
  },
  {
   "cell_type": "code",
   "execution_count": 83,
   "id": "a5269a78-0c64-45ee-b871-b93293165e82",
   "metadata": {},
   "outputs": [],
   "source": [
    "from helper_functions import accuracy_fn\n",
    "\n",
    "# Setup loss function and optimizer \n",
    "loss_fn = nn.CrossEntropyLoss()\n",
    "optimizer = torch.optim.SGD(model_0.parameters() , lr = 0.1)"
   ]
  },
  {
   "cell_type": "code",
   "execution_count": 84,
   "id": "2c459213-e8f3-4624-a9af-5a08992c7b03",
   "metadata": {},
   "outputs": [],
   "source": [
    "from timeit import default_timer as timer \n",
    "def print_train_time(start: float, end: float, device: torch.device = None):\n",
    "    \"\"\"Prints difference between start and end time.\n",
    "\n",
    "    Args:\n",
    "        start (float): Start time of computation (preferred in timeit format). \n",
    "        end (float): End time of computation.\n",
    "        device ([type], optional): Device that compute is running on. Defaults to None.\n",
    "\n",
    "    Returns:\n",
    "        float: time between start and end in seconds (higher is longer).\n",
    "    \"\"\"\n",
    "    total_time = end - start\n",
    "    print(f\"Train time on {device}: {total_time:.3f} seconds\")\n",
    "    return total_time"
   ]
  },
  {
   "cell_type": "code",
   "execution_count": 144,
   "id": "48caa669-89bd-4d8c-9680-05992b09ac19",
   "metadata": {},
   "outputs": [
    {
     "data": {
      "text/plain": [
       "1875"
      ]
     },
     "execution_count": 144,
     "metadata": {},
     "output_type": "execute_result"
    }
   ],
   "source": [
    "# Number of batches\n",
    "len(train_dataloader)"
   ]
  },
  {
   "cell_type": "markdown",
   "id": "6e7eacf0-e6e3-481f-a537-1a012b02b5b9",
   "metadata": {},
   "source": [
    "### Creating a training loop and test loop on the batches of the data"
   ]
  },
  {
   "cell_type": "code",
   "execution_count": 101,
   "id": "cdf4254c-9075-4bf4-acc9-ccbf6a89aea0",
   "metadata": {},
   "outputs": [
    {
     "name": "stdout",
     "output_type": "stream",
     "text": [
      "Look at 0 / 60000 samples\n",
      "Look at 12800 / 60000 samples\n",
      "Look at 25600 / 60000 samples\n",
      "Look at 38400 / 60000 samples\n",
      "Look at 51200 / 60000 samples\n",
      "Epoch 0 | Train Loss : 1.66255 | Train acc : 80.06500\n",
      "Epoch 0 | Test Loss : 0.00550 | Test acc : 0.24048\n",
      "Look at 0 / 60000 samples\n",
      "Look at 12800 / 60000 samples\n",
      "Look at 25600 / 60000 samples\n",
      "Look at 38400 / 60000 samples\n",
      "Look at 51200 / 60000 samples\n",
      "Epoch 1 | Train Loss : 1.66165 | Train acc : 80.17000\n",
      "Epoch 1 | Test Loss : 0.00533 | Test acc : 0.26029\n",
      "Look at 0 / 60000 samples\n",
      "Look at 12800 / 60000 samples\n",
      "Look at 25600 / 60000 samples\n",
      "Look at 38400 / 60000 samples\n",
      "Look at 51200 / 60000 samples\n",
      "Epoch 2 | Train Loss : 1.66080 | Train acc : 80.27333\n",
      "Epoch 2 | Test Loss : 0.00546 | Test acc : 0.24048\n",
      "Train time on CPU: 11.817 seconds\n"
     ]
    }
   ],
   "source": [
    "# from tdqm.auto import tqdm\n",
    "torch.manual_seed(42)\n",
    "train_time_start_on_cpu = timer()\n",
    "epochs = 3\n",
    "\n",
    "\n",
    "for epoch in range(epochs):\n",
    "    ### Train model\n",
    "    model_0.train()\n",
    "    train_loss = 0\n",
    "    train_acc = 0\n",
    "    for batch , (X , y) in enumerate(train_dataloader):\n",
    "        # Forward on the model\n",
    "        y_logits = model_0(X)\n",
    "        # print(y_logits.shape)\n",
    "        # Calculate preds\n",
    "        y_pred = y_logits.argmax(axis=1)\n",
    "        # print(y_pred.shape , y.shape)\n",
    "        # Calculate accuracy\n",
    "        train_acc += accuracy_fn(y , y_pred)\n",
    "        # calculate loss \n",
    "        loss = loss_fn(y_logits , y)\n",
    "        train_loss += loss\n",
    "        # Optmizer zero grad\n",
    "        optimizer.zero_grad()\n",
    "        # Loss backward\n",
    "        loss.backward()\n",
    "        # optmizer step\n",
    "        optimizer.step()\n",
    "        if batch % 400 == 0:\n",
    "            print(f\"Look at {len(X) * batch} / {len(train_data)} samples\")\n",
    "\n",
    "    train_loss = train_loss / len(train_dataloader)\n",
    "    train_acc =  train_acc / len(train_dataloader)\n",
    "    print(f\"Epoch {epoch} | Train Loss : {train_loss:.5f} | Train acc : {train_acc:.5f}\")\n",
    "    ### Test Model\n",
    "    model_0.eval()\n",
    "    test_loss = 0 \n",
    "    test_acc = 0\n",
    "    \n",
    "    for batch , (X , y) in enumerate(test_dataloader):\n",
    "        # Forward pass\n",
    "        with torch.inference_mode() :\n",
    "            y_logits = model_0(X)\n",
    "            # calculate preds\n",
    "            y_pred = y_logits.argmax(axis=1)\n",
    "            # Loss \n",
    "            loss = loss_fn(y_logits , y)\n",
    "            test_loss += loss\n",
    "            # Accuracy\n",
    "            test_acc += accuracy_fn(y_pred, y)\n",
    "\n",
    "        test_loss = test_loss / len(test_dataloader)\n",
    "        test_acc = test_acc / len(test_dataloader)\n",
    "    print(f\"Epoch {epoch} | Test Loss : {test_loss:.5f} | Test acc : {test_acc:.5f}\")   \n",
    "\n",
    "train_time_end_on_cpu = timer()\n",
    "total_train_time_model = print_train_time(start = train_time_start_on_cpu , \n",
    "                                         end = train_time_end_on_cpu , \n",
    "                                         device = \"CPU\")"
   ]
  },
  {
   "cell_type": "markdown",
   "id": "883d1a36-2f59-49ca-824c-91ba8a8de43a",
   "metadata": {},
   "source": [
    "### Make prediction "
   ]
  },
  {
   "cell_type": "code",
   "execution_count": 172,
   "id": "41a5ddfd-4df7-48d3-8bff-26ea4d93a6fd",
   "metadata": {},
   "outputs": [],
   "source": [
    "def eval_model(model : torch.nn.Module , \n",
    "              dataloader : torch.utils.data.DataLoader , \n",
    "              loss_fn , \n",
    "              acc_fn,\n",
    "              device = device):\n",
    "    \"\"\"\n",
    "    returns a dictionary contains models evaluations\n",
    "    \"\"\"\n",
    "    loss = 0 \n",
    "    acc = 0 \n",
    "    model.eval()\n",
    "    with torch.inference_mode():\n",
    "        for X , y in dataloader :\n",
    "            X , y = X.to(device) , y.to(device)\n",
    "            # Make predictions\n",
    "            pred_probs = model(X)\n",
    "            # caculate loss\n",
    "            loss += loss_fn(pred_probs , y)\n",
    "            # Claculate accuracy\n",
    "            acc +=acc_fn(y , pred_probs.argmax(axis=1))\n",
    "\n",
    "        loss /= len(dataloader)\n",
    "        acc /= len(dataloader)\n",
    "    return {\"Loss\" : loss.item() , \n",
    "           \"accuracy\" : acc}\n"
   ]
  },
  {
   "cell_type": "code",
   "execution_count": 173,
   "id": "ae1bde7c-3e89-4ab7-82f3-8e3fa6e9e40f",
   "metadata": {},
   "outputs": [
    {
     "name": "stderr",
     "output_type": "stream",
     "text": [
      "/usr/local/lib/python3.10/dist-packages/torch/nn/modules/module.py:1518: UserWarning: Implicit dimension choice for softmax has been deprecated. Change the call to include dim=X as an argument.\n",
      "  return self._call_impl(*args, **kwargs)\n"
     ]
    },
    {
     "data": {
      "text/plain": [
       "{'Loss': 1.6711710691452026, 'accuracy': 79.02356230031948}"
      ]
     },
     "execution_count": 173,
     "metadata": {},
     "output_type": "execute_result"
    }
   ],
   "source": [
    "model_0_results = eval_model(model_0 , test_dataloader , loss_fn , accuracy_fn ,device = \"cpu\")\n",
    "model_0_results"
   ]
  },
  {
   "cell_type": "markdown",
   "id": "b9923aa6-8be4-4614-9d05-c13107f9116b",
   "metadata": {},
   "source": [
    "## Setup code agnostic-code "
   ]
  },
  {
   "cell_type": "code",
   "execution_count": 174,
   "id": "f1829e19-3f20-4f5f-b635-b56c922f6502",
   "metadata": {},
   "outputs": [
    {
     "data": {
      "text/plain": [
       "'cuda'"
      ]
     },
     "execution_count": 174,
     "metadata": {},
     "output_type": "execute_result"
    }
   ],
   "source": [
    "device = \"cuda\" if torch.cuda.is_available() else \"cpu\"\n",
    "device"
   ]
  },
  {
   "cell_type": "markdown",
   "id": "698744ec-509a-425e-a886-d0483c222c9b",
   "metadata": {},
   "source": [
    "## Model 1: Building a better model with non-linearity "
   ]
  },
  {
   "cell_type": "code",
   "execution_count": 182,
   "id": "4ba5ebdc-6d8f-4958-bece-2e7f935312a6",
   "metadata": {},
   "outputs": [],
   "source": [
    "class FashionMNISTModelV1(torch.nn.Module):\n",
    "    def __init__(self , input_shape : int , hidden_units : int , output_shape):\n",
    "        super().__init__()\n",
    "        self.Flatten = nn.Flatten()\n",
    "        self.l1 = nn.Linear(input_shape , hidden_units)\n",
    "        self.l2 = nn.Linear(hidden_units , output_shape)\n",
    "        self.Relu = nn.ReLU()\n",
    "\n",
    "    def forward(self , x):\n",
    "        x = self.Flatten(x)\n",
    "        x = self.l1(x)\n",
    "        x = self.Relu(x)\n",
    "        x = self.l2(x)\n",
    "        # x = self.Relu(x)\n",
    "        return x"
   ]
  },
  {
   "cell_type": "code",
   "execution_count": 183,
   "id": "75e35934-762c-459a-bc60-cc418b438ee3",
   "metadata": {},
   "outputs": [
    {
     "data": {
      "text/plain": [
       "Parameter containing:\n",
       "tensor([[ 0.0034, -0.0353,  0.0323,  ..., -0.0218, -0.0176,  0.0069],\n",
       "        [ 0.0097,  0.0137,  0.0196,  ..., -0.0238,  0.0124, -0.0214],\n",
       "        [-0.0112, -0.0170, -0.0243,  ...,  0.0066, -0.0149, -0.0091],\n",
       "        ...,\n",
       "        [-0.0231,  0.0100,  0.0303,  ...,  0.0048, -0.0134, -0.0141],\n",
       "        [-0.0112,  0.0124,  0.0062,  ...,  0.0035, -0.0279,  0.0321],\n",
       "        [ 0.0080,  0.0258,  0.0155,  ..., -0.0284, -0.0354, -0.0013]],\n",
       "       device='cuda:0', requires_grad=True)"
      ]
     },
     "execution_count": 183,
     "metadata": {},
     "output_type": "execute_result"
    }
   ],
   "source": [
    "model_1 = FashionMNISTModelV1(784 , 10 , len(class_names)).to(device)\n",
    "# Check model device\n",
    "next(model_1.parameters())"
   ]
  },
  {
   "cell_type": "markdown",
   "id": "29f7e302-12c4-48e7-a3d7-a5f260e84744",
   "metadata": {},
   "source": [
    "## Setup loss , optimizer , evalution metrics"
   ]
  },
  {
   "cell_type": "code",
   "execution_count": 184,
   "id": "27f1ddcf-b196-4559-9461-950e41826c7e",
   "metadata": {},
   "outputs": [],
   "source": [
    "from helper_functions import accuracy_fn\n",
    "loss_fn = nn.CrossEntropyLoss()\n",
    "optimizer = torch.optim.SGD(model_1.parameters() , lr = 0.1)"
   ]
  },
  {
   "cell_type": "code",
   "execution_count": 185,
   "id": "c9ed48b6-3e52-46f6-92cd-c07956f23488",
   "metadata": {},
   "outputs": [],
   "source": [
    "def train_step(model: torch.nn.Module \n",
    "               ,data_loader: torch.utils.data.DataLoader\n",
    "              ,loss_fn: torch.nn.Module\n",
    "              , optimizer: torch.optim\n",
    "              ,acc_fn\n",
    "              ,device : torch.device = device):\n",
    "    model.train()\n",
    "    \n",
    "    ### TRAINING\n",
    "    Loss = 0\n",
    "    acc = 0\n",
    "    for batch , (X , y) in enumerate(data_loader):\n",
    "        # Send data to Gpu\n",
    "        X , y = X.to(device) , y.to(device)\n",
    "        # Forward pass\n",
    "        pred_probs = model(X)\n",
    "        # Pred class\n",
    "        y_pred = pred_probs.argmax(axis=1)\n",
    "        acc += accuracy_fn(y_pred , y)\n",
    "        # loss\n",
    "        loss = loss_fn(pred_probs , y)\n",
    "        Loss += loss\n",
    "        # Optim zero\n",
    "        optimizer.zero_grad()\n",
    "        # loss backward\n",
    "        loss.backward()\n",
    "        # optim step\n",
    "        optimizer.step()\n",
    "        if batch % 400 == 0:\n",
    "            print(f\"Look at {batch * len(data_loader)} / {len(data_loader.dataset)} samples...\")\n",
    "    Loss /= len(data_loader)\n",
    "    acc /= len(data_loader)\n",
    "    print(f\"Train --- > Loss : {Loss:.5f} | accuracy : {acc:5f}\")\n",
    "\n",
    "def test_step(dataloader : torch.utils.data.DataLoader , \n",
    "             model : torch.nn.Module, \n",
    "             loss_fn: torch.nn.Module,\n",
    "             accuracy_fn,\n",
    "             device: torch.device = device):\n",
    "    test_loss , test_acc = 0 , 0\n",
    "    model.to(device)\n",
    "    model.eval()\n",
    "    with torch.inference_mode():\n",
    "        for X , y in dataloader:\n",
    "            X , y = X.to(device) , y.to(device)\n",
    "            # forward\n",
    "            y_prob = model(X)\n",
    "            # Prediction\n",
    "            y_pred = y_prob.argmax(axis=1)\n",
    "            # loss\n",
    "            test_loss += loss_fn(y_prob , y_pred)\n",
    "            test_acc += accuracy_fn(y_pred , y)\n",
    "\n",
    "        test_loss /= len(dataloader)\n",
    "        test_acc /= len(dataloader)\n",
    "    print(f\"Test --- > Loss : {test_loss:.5f} |  accuracy {test_acc:.5f}\")"
   ]
  },
  {
   "cell_type": "code",
   "execution_count": 186,
   "id": "f7ed39a3-5ccc-471a-9cb7-1533e680afcf",
   "metadata": {},
   "outputs": [
    {
     "name": "stdout",
     "output_type": "stream",
     "text": [
      "****Epoch : 0\n",
      "Look at 0 / 60000 samples...\n",
      "Look at 750000 / 60000 samples...\n",
      "Look at 1500000 / 60000 samples...\n",
      "Look at 2250000 / 60000 samples...\n",
      "Look at 3000000 / 60000 samples...\n",
      "Train --- > Loss : 0.61899 | accuracy : 77.791667\n",
      "Test --- > Loss : 0.22686 |  accuracy 82.50799\n",
      "****Epoch : 1\n",
      "Look at 0 / 60000 samples...\n",
      "Look at 750000 / 60000 samples...\n",
      "Look at 1500000 / 60000 samples...\n",
      "Look at 2250000 / 60000 samples...\n",
      "Look at 3000000 / 60000 samples...\n",
      "Train --- > Loss : 0.46963 | accuracy : 83.110000\n",
      "Test --- > Loss : 0.20245 |  accuracy 81.40974\n",
      "****Epoch : 2\n",
      "Look at 0 / 60000 samples...\n",
      "Look at 750000 / 60000 samples...\n",
      "Look at 1500000 / 60000 samples...\n",
      "Look at 2250000 / 60000 samples...\n",
      "Look at 3000000 / 60000 samples...\n",
      "Train --- > Loss : 0.44308 | accuracy : 84.053333\n",
      "Test --- > Loss : 0.22870 |  accuracy 81.93890\n",
      "Train time on GPU: 12.698 seconds\n"
     ]
    }
   ],
   "source": [
    "# set manual seed\n",
    "torch.manual_seed(42)\n",
    "epochs = 3\n",
    "from timeit import default_timer as timer\n",
    "train_time_start_on_gpu = timer()\n",
    "for epoch in range(epochs):\n",
    "    print(f\"****Epoch : {epoch}\")\n",
    "    ### Training\n",
    "    train_step(data_loader=train_dataloader,\n",
    "              model=model_1,\n",
    "              loss_fn=loss_fn,\n",
    "              optimizer=optimizer,\n",
    "              acc_fn=accuracy_fn,\n",
    "              )\n",
    "    ### Test\n",
    "    test_step(dataloader=test_dataloader,model=model_1,loss_fn=loss_fn , accuracy_fn=accuracy_fn)\n",
    "\n",
    "train_time_stop_on_gpu = timer()\n",
    "total_train_time_model1 = print_train_time(start = train_time_start_on_gpu , \n",
    "                      end=train_time_stop_on_gpu,\n",
    "                      device = \"GPU\")"
   ]
  },
  {
   "cell_type": "code",
   "execution_count": 187,
   "id": "ff7a7552-6bcf-4b3c-8859-64c3569f69d1",
   "metadata": {},
   "outputs": [
    {
     "data": {
      "text/plain": [
       "{'Loss': 0.5260878205299377, 'accuracy': 81.96884984025559}"
      ]
     },
     "execution_count": 187,
     "metadata": {},
     "output_type": "execute_result"
    }
   ],
   "source": [
    "model_1_results = eval_model(model_1,test_dataloader , loss_fn , accuracy_fn , device=device)\n",
    "model_1_results"
   ]
  },
  {
   "cell_type": "code",
   "execution_count": 188,
   "id": "ed6f60ec-c6c4-4d07-8ba4-5e826d43ffc4",
   "metadata": {},
   "outputs": [
    {
     "data": {
      "text/plain": [
       "{'Loss': 1.6711710691452026, 'accuracy': 79.02356230031948}"
      ]
     },
     "execution_count": 188,
     "metadata": {},
     "output_type": "execute_result"
    }
   ],
   "source": [
    "model_0_results"
   ]
  },
  {
   "cell_type": "code",
   "execution_count": null,
   "id": "7759eb3a-08a4-4b22-9319-8cc212ceddb0",
   "metadata": {},
   "outputs": [],
   "source": []
  }
 ],
 "metadata": {
  "kernelspec": {
   "display_name": "Python 3 (ipykernel)",
   "language": "python",
   "name": "python3"
  },
  "language_info": {
   "codemirror_mode": {
    "name": "ipython",
    "version": 3
   },
   "file_extension": ".py",
   "mimetype": "text/x-python",
   "name": "python",
   "nbconvert_exporter": "python",
   "pygments_lexer": "ipython3",
   "version": "3.10.12"
  }
 },
 "nbformat": 4,
 "nbformat_minor": 5
}
