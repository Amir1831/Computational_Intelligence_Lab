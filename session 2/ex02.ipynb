{
 "cells": [
  {
   "cell_type": "code",
   "execution_count": 23,
   "metadata": {
    "tags": []
   },
   "outputs": [
    {
     "name": "stdout",
     "output_type": "stream",
     "text": [
      "The autoreload extension is already loaded. To reload it, use:\n",
      "  %reload_ext autoreload\n"
     ]
    }
   ],
   "source": [
    "# Useful starting lines\n",
    "%matplotlib inline\n",
    "import numpy as np\n",
    "import matplotlib.pyplot as plt\n",
    "%load_ext autoreload\n",
    "%autoreload 2"
   ]
  },
  {
   "cell_type": "markdown",
   "metadata": {},
   "source": [
    "# Load the data"
   ]
  },
  {
   "cell_type": "markdown",
   "metadata": {},
   "source": [
    "take a look at the data "
   ]
  },
  {
   "cell_type": "code",
   "execution_count": 24,
   "metadata": {},
   "outputs": [],
   "source": [
    "import pandas as pd"
   ]
  },
  {
   "cell_type": "code",
   "execution_count": 25,
   "metadata": {},
   "outputs": [
    {
     "data": {
      "text/html": [
       "<div>\n",
       "<style scoped>\n",
       "    .dataframe tbody tr th:only-of-type {\n",
       "        vertical-align: middle;\n",
       "    }\n",
       "\n",
       "    .dataframe tbody tr th {\n",
       "        vertical-align: top;\n",
       "    }\n",
       "\n",
       "    .dataframe thead th {\n",
       "        text-align: right;\n",
       "    }\n",
       "</style>\n",
       "<table border=\"1\" class=\"dataframe\">\n",
       "  <thead>\n",
       "    <tr style=\"text-align: right;\">\n",
       "      <th></th>\n",
       "      <th>Gender</th>\n",
       "      <th>Height</th>\n",
       "      <th>Weight</th>\n",
       "    </tr>\n",
       "  </thead>\n",
       "  <tbody>\n",
       "    <tr>\n",
       "      <th>0</th>\n",
       "      <td>Male</td>\n",
       "      <td>73.847017</td>\n",
       "      <td>241.893563</td>\n",
       "    </tr>\n",
       "    <tr>\n",
       "      <th>1</th>\n",
       "      <td>Male</td>\n",
       "      <td>68.781904</td>\n",
       "      <td>162.310473</td>\n",
       "    </tr>\n",
       "    <tr>\n",
       "      <th>2</th>\n",
       "      <td>Male</td>\n",
       "      <td>74.110105</td>\n",
       "      <td>212.740856</td>\n",
       "    </tr>\n",
       "    <tr>\n",
       "      <th>3</th>\n",
       "      <td>Male</td>\n",
       "      <td>71.730978</td>\n",
       "      <td>220.042470</td>\n",
       "    </tr>\n",
       "    <tr>\n",
       "      <th>4</th>\n",
       "      <td>Male</td>\n",
       "      <td>69.881796</td>\n",
       "      <td>206.349801</td>\n",
       "    </tr>\n",
       "    <tr>\n",
       "      <th>...</th>\n",
       "      <td>...</td>\n",
       "      <td>...</td>\n",
       "      <td>...</td>\n",
       "    </tr>\n",
       "    <tr>\n",
       "      <th>9995</th>\n",
       "      <td>Female</td>\n",
       "      <td>66.172652</td>\n",
       "      <td>136.777454</td>\n",
       "    </tr>\n",
       "    <tr>\n",
       "      <th>9996</th>\n",
       "      <td>Female</td>\n",
       "      <td>67.067155</td>\n",
       "      <td>170.867906</td>\n",
       "    </tr>\n",
       "    <tr>\n",
       "      <th>9997</th>\n",
       "      <td>Female</td>\n",
       "      <td>63.867992</td>\n",
       "      <td>128.475319</td>\n",
       "    </tr>\n",
       "    <tr>\n",
       "      <th>9998</th>\n",
       "      <td>Female</td>\n",
       "      <td>69.034243</td>\n",
       "      <td>163.852461</td>\n",
       "    </tr>\n",
       "    <tr>\n",
       "      <th>9999</th>\n",
       "      <td>Female</td>\n",
       "      <td>61.944246</td>\n",
       "      <td>113.649103</td>\n",
       "    </tr>\n",
       "  </tbody>\n",
       "</table>\n",
       "<p>10000 rows × 3 columns</p>\n",
       "</div>"
      ],
      "text/plain": [
       "      Gender     Height      Weight\n",
       "0       Male  73.847017  241.893563\n",
       "1       Male  68.781904  162.310473\n",
       "2       Male  74.110105  212.740856\n",
       "3       Male  71.730978  220.042470\n",
       "4       Male  69.881796  206.349801\n",
       "...      ...        ...         ...\n",
       "9995  Female  66.172652  136.777454\n",
       "9996  Female  67.067155  170.867906\n",
       "9997  Female  63.867992  128.475319\n",
       "9998  Female  69.034243  163.852461\n",
       "9999  Female  61.944246  113.649103\n",
       "\n",
       "[10000 rows x 3 columns]"
      ]
     },
     "execution_count": 25,
     "metadata": {},
     "output_type": "execute_result"
    }
   ],
   "source": [
    "pd.read_csv(\"./height_weight_genders.csv\")"
   ]
  },
  {
   "cell_type": "code",
   "execution_count": 26,
   "metadata": {
    "tags": []
   },
   "outputs": [],
   "source": [
    "import datetime\n",
    "from helpers import *\n",
    "\n",
    "height, weight, gender = load_data(sub_sample=False, add_outlier=False)\n",
    "x, mean_x, std_x = standardize(height)\n",
    "y, tx = build_model_data(x, weight)"
   ]
  },
  {
   "cell_type": "code",
   "execution_count": 27,
   "metadata": {},
   "outputs": [
    {
     "data": {
      "text/plain": [
       "((10000,), (10000, 2))"
      ]
     },
     "execution_count": 27,
     "metadata": {},
     "output_type": "execute_result"
    }
   ],
   "source": [
    "y.shape, tx.shape"
   ]
  },
  {
   "cell_type": "code",
   "execution_count": 28,
   "metadata": {},
   "outputs": [
    {
     "data": {
      "text/plain": [
       "array([109.81967768,  73.68895452,  96.58434842, ...,  58.32779473,\n",
       "        74.38901745,  51.59669261])"
      ]
     },
     "execution_count": 28,
     "metadata": {},
     "output_type": "execute_result"
    }
   ],
   "source": [
    "y"
   ]
  },
  {
   "cell_type": "markdown",
   "metadata": {},
   "source": [
    "The first Column represent `X0` feature that fill with ones."
   ]
  },
  {
   "cell_type": "code",
   "execution_count": 29,
   "metadata": {},
   "outputs": [
    {
     "data": {
      "text/plain": [
       "array([[ 1.        ,  1.94406149],\n",
       "       [ 1.        ,  0.62753668],\n",
       "       [ 1.        ,  2.01244346],\n",
       "       ...,\n",
       "       [ 1.        , -0.64968792],\n",
       "       [ 1.        ,  0.69312469],\n",
       "       [ 1.        , -1.14970831]])"
      ]
     },
     "execution_count": 29,
     "metadata": {},
     "output_type": "execute_result"
    }
   ],
   "source": [
    "tx\n"
   ]
  },
  {
   "cell_type": "markdown",
   "metadata": {},
   "source": [
    "# 1 Computing the Cost Function"
   ]
  },
  {
   "cell_type": "markdown",
   "metadata": {},
   "source": [
    "Fill in the `compute_loss` function below:\n",
    "<a id='compute_loss'></a>\n"
   ]
  },
  {
   "cell_type": "code",
   "execution_count": 30,
   "metadata": {
    "tags": []
   },
   "outputs": [],
   "source": [
    "def compute_loss(y, tx, w):\n",
    "    \"\"\"\n",
    "    Calculate the loss.\n",
    "\n",
    "    You can calculate the loss using mse or mae.\n",
    "    \"\"\"\n",
    "    # ***************************************************\n",
    "    # INSERT YOUR CODE HERE\n",
    "    # TODO: compute loss by MSE\n",
    "    e = y - tx.dot(w)\n",
    "    cost = 1/2*np.mean(e**2)\n",
    "    return cost\n",
    "    # ***************************************************\n",
    "    raise NotImplementedError"
   ]
  },
  {
   "cell_type": "code",
   "execution_count": 31,
   "metadata": {},
   "outputs": [],
   "source": [
    "def calculate_mse(e):\n",
    "    return 1/2*np.mean(e**2)"
   ]
  },
  {
   "cell_type": "markdown",
   "metadata": {},
   "source": [
    "# 2 Grid Search\n",
    "\n",
    "Fill in the function `grid_search()` below:"
   ]
  },
  {
   "cell_type": "code",
   "execution_count": 32,
   "metadata": {
    "tags": []
   },
   "outputs": [],
   "source": [
    "def grid_search(y, tx, w0, w1):\n",
    "    \"\"\"Algorithm for grid search.\"\"\"\n",
    "    losses = np.zeros((len(w0), len(w1)))\n",
    "    # ***************************************************\n",
    "    # INSERT YOUR CODE HERE\n",
    "    # TODO: compute loss for each combination of w0 and w1.\n",
    "    for i in range (0, len(w0)):\n",
    "        for j in range (0, len(w1)):\n",
    "            w = np.array([w0[i],w1[j]])\n",
    "            losses[i, j] = compute_loss(y, tx, w)\n",
    "            \n",
    "    # ***************************************************\n",
    "    #raise NotImplementedError\n",
    "    return losses"
   ]
  },
  {
   "cell_type": "markdown",
   "metadata": {},
   "source": [
    "Let us play with the grid search demo now!"
   ]
  },
  {
   "cell_type": "code",
   "execution_count": 33,
   "metadata": {
    "tags": []
   },
   "outputs": [
    {
     "name": "stdout",
     "output_type": "stream",
     "text": [
      "Grid Search: loss*=18.793541019523236, w0*=71.42857142857142, w1*=15.306122448979579, execution time=0.361 seconds\n"
     ]
    },
    {
     "data": {
      "image/png": "[encoded data removed]",
      "text/plain": [
       "<Figure size 1000x600 with 3 Axes>"
      ]
     },
     "metadata": {},
     "output_type": "display_data"
    }
   ],
   "source": [
    "from grid_search import generate_w, get_best_parameters\n",
    "from plots import grid_visualization\n",
    "\n",
    "# Generate the grid of parameters to be swept\n",
    "grid_w0, grid_w1 = generate_w(num_intervals=50)\n",
    "\n",
    "# Start the grid search\n",
    "start_time = datetime.datetime.now()\n",
    "grid_losses = grid_search(y, tx, grid_w0, grid_w1)\n",
    "\n",
    "# Select the best combinaison\n",
    "loss_star, w0_star, w1_star = get_best_parameters(grid_w0, grid_w1, grid_losses)\n",
    "end_time = datetime.datetime.now()\n",
    "execution_time = (end_time - start_time).total_seconds()\n",
    "\n",
    "# Print the results\n",
    "print(\"Grid Search: loss*={l}, w0*={w0}, w1*={w1}, execution time={t:.3f} seconds\".format(\n",
    "      l=loss_star, w0=w0_star, w1=w1_star, t=execution_time))\n",
    "\n",
    "# Plot the results\n",
    "fig = grid_visualization(grid_losses, grid_w0, grid_w1, mean_x, std_x, height, weight)\n",
    "fig.set_size_inches(10.0,6.0)\n",
    "fig.savefig(\"grid_plot\")  # Optional saving"
   ]
  },
  {
   "cell_type": "code",
   "execution_count": 34,
   "metadata": {
    "tags": []
   },
   "outputs": [
    {
     "name": "stdout",
     "output_type": "stream",
     "text": [
      "Grid Search: loss*=31.05802662144846, w0*=73.68421052631578, w1*=7.89473684210526, execution time=0.063 seconds\n"
     ]
    },
    {
     "data": {
      "image/png": "[encoded data removed]",
      "text/plain": [
       "<Figure size 1000x600 with 3 Axes>"
      ]
     },
     "metadata": {},
     "output_type": "display_data"
    }
   ],
   "source": [
    "from grid_search import generate_w, get_best_parameters\n",
    "from plots import grid_visualization\n",
    "\n",
    "# Generate the grid of parameters to be swept\n",
    "grid_w0, grid_w1 = generate_w(num_intervals=20)\n",
    "\n",
    "# Start the grid search\n",
    "start_time = datetime.datetime.now()\n",
    "grid_losses = grid_search(y, tx, grid_w0, grid_w1)\n",
    "\n",
    "# Select the best combinaison\n",
    "loss_star, w0_star, w1_star = get_best_parameters(grid_w0, grid_w1, grid_losses)\n",
    "end_time = datetime.datetime.now()\n",
    "execution_time = (end_time - start_time).total_seconds()\n",
    "\n",
    "# Print the results\n",
    "print(\"Grid Search: loss*={l}, w0*={w0}, w1*={w1}, execution time={t:.3f} seconds\".format(\n",
    "      l=loss_star, w0=w0_star, w1=w1_star, t=execution_time))\n",
    "\n",
    "# Plot the results\n",
    "fig = grid_visualization(grid_losses, grid_w0, grid_w1, mean_x, std_x, height, weight)\n",
    "fig.set_size_inches(10.0,6.0)\n",
    "fig.savefig(\"grid_plot\")  # Optional saving"
   ]
  },
  {
   "cell_type": "markdown",
   "metadata": {},
   "source": [
    "# 3 Gradient Descent"
   ]
  },
  {
   "cell_type": "markdown",
   "metadata": {},
   "source": [
    "Again, please fill in the functions `compute_gradient` below:"
   ]
  },
  {
   "cell_type": "code",
   "execution_count": 35,
   "metadata": {},
   "outputs": [
    {
     "data": {
      "text/plain": [
       "(array([ 4.88812299,  2.25507336,  5.02488691, ..., -0.29937583,\n",
       "         2.38624937, -1.29941662]),\n",
       " (10000, 2),\n",
       " (2,))"
      ]
     },
     "execution_count": 35,
     "metadata": {},
     "output_type": "execute_result"
    }
   ],
   "source": [
    "w = np.asarray([1,2])\n",
    "tx.dot(w) , tx.shape , w.shape"
   ]
  },
  {
   "cell_type": "code",
   "execution_count": 36,
   "metadata": {},
   "outputs": [
    {
     "data": {
      "text/plain": [
       "(array([[ 4.88812299],\n",
       "        [ 2.25507336],\n",
       "        [ 5.02488691],\n",
       "        ...,\n",
       "        [-0.29937583],\n",
       "        [ 2.38624937],\n",
       "        [-1.29941662]]),\n",
       " (10000, 2),\n",
       " (2, 1))"
      ]
     },
     "execution_count": 36,
     "metadata": {},
     "output_type": "execute_result"
    }
   ],
   "source": [
    "w = np.expand_dims(w , axis=1)\n",
    "tx.dot(w) , tx.shape , w.shape"
   ]
  },
  {
   "cell_type": "code",
   "execution_count": 37,
   "metadata": {
    "tags": []
   },
   "outputs": [],
   "source": [
    "def compute_gradient(y, tx, w):\n",
    "    \"\"\"Compute the gradient.\"\"\"\n",
    "    \n",
    "    e = y - tx.dot(w)\n",
    "    grad = (-1 * (tx.T.dot(e))) / len(tx)\n",
    "    return grad ,e"
   ]
  },
  {
   "cell_type": "code",
   "execution_count": 38,
   "metadata": {},
   "outputs": [
    {
     "data": {
      "text/plain": [
       "(array([-71.293922  , -12.47971243]),\n",
       " array([105.87561619,  71.06141785,  92.57190497, ...,  56.97748264,\n",
       "         71.69589277,  50.74640093]))"
      ]
     },
     "execution_count": 38,
     "metadata": {},
     "output_type": "execute_result"
    }
   ],
   "source": [
    "compute_gradient(y,tx,[2,1])"
   ]
  },
  {
   "cell_type": "code",
   "execution_count": 39,
   "metadata": {},
   "outputs": [
    {
     "data": {
      "text/plain": [
       "(array([-63.293922  ,  36.52028757]),\n",
       " array([  2.61660302,  32.3121206 , -14.03782444, ...,  80.81219056,\n",
       "         29.73278316,  99.08210817]))"
      ]
     },
     "execution_count": 39,
     "metadata": {},
     "output_type": "execute_result"
    }
   ],
   "source": [
    "compute_gradient(y,tx,[10,50])"
   ]
  },
  {
   "cell_type": "markdown",
   "metadata": {},
   "source": [
    "Please fill in the functions `gradient_descent` below:"
   ]
  },
  {
   "cell_type": "code",
   "execution_count": 46,
   "metadata": {
    "tags": []
   },
   "outputs": [],
   "source": [
    "def gradient_descent(y, tx, initial_w, max_iters, gamma):\n",
    "    \"\"\"Gradient descent algorithm.\"\"\"\n",
    "    # Define parameters to store w and loss\n",
    "    ws = [initial_w]\n",
    "    losses = []\n",
    "    w = initial_w\n",
    "    for n_iter in range(max_iters):\n",
    "        grad, err = compute_gradient(y, tx, w)\n",
    "        loss = calculate_mse(err)\n",
    "        w = w - gamma * grad\n",
    "        ws.append(w)\n",
    "        losses.append(loss)\n",
    "        print(\"Gradient Descent({bi}/{ti}): loss={l}, w0={w0}, w1={w1}\".format(\n",
    "              bi=n_iter, ti=max_iters - 1, l=loss, w0=w[0], w1=w[1]))\n",
    "\n",
    "    return losses, ws"
   ]
  },
  {
   "cell_type": "markdown",
   "metadata": {},
   "source": [
    "Test your gradient descent function through gradient descent demo shown below:"
   ]
  },
  {
   "cell_type": "code",
   "execution_count": 47,
   "metadata": {
    "tags": []
   },
   "outputs": [
    {
     "name": "stdout",
     "output_type": "stream",
     "text": [
      "(2,)\n",
      "Gradient Descent(0/49): loss=1143.9599168746308, w0=59.105745401473634, w1=14.83579870449229\n",
      "Gradient Descent(1/49): loss=116.95755047935143, w0=69.03746902191573, w1=13.886538315840008\n",
      "Gradient Descent(2/49): loss=24.52733750377637, w0=72.01698610804834, w1=13.601760199244334\n",
      "Gradient Descent(3/49): loss=16.208618335974634, w0=72.91084123388814, w1=13.516326764265633\n",
      "Gradient Descent(4/49): loss=15.45993361087247, w0=73.17899777164007, w1=13.490696733772024\n",
      "Gradient Descent(5/49): loss=15.392551985613277, w0=73.25944473296565, w1=13.483007724623942\n",
      "Gradient Descent(6/49): loss=15.386487639339949, w0=73.28357882136332, w1=13.480701021879517\n",
      "Gradient Descent(7/49): loss=15.38594184817535, w0=73.29081904788264, w1=13.48000901105619\n",
      "Gradient Descent(8/49): loss=15.385892726970537, w0=73.29299111583842, w1=13.479801407809191\n",
      "Gradient Descent(9/49): loss=15.385888306062101, w0=73.29364273622515, w1=13.479739126835092\n",
      "Gradient Descent(10/49): loss=15.385887908180344, w0=73.29383822234118, w1=13.479720442542861\n",
      "Gradient Descent(11/49): loss=15.385887872370985, w0=73.29389686817599, w1=13.479714837255193\n",
      "Gradient Descent(12/49): loss=15.385887869148142, w0=73.29391446192643, w1=13.479713155668891\n",
      "Gradient Descent(13/49): loss=15.385887868858088, w0=73.29391974005156, w1=13.479712651193001\n",
      "Gradient Descent(14/49): loss=15.385887868831983, w0=73.2939213234891, w1=13.479712499850235\n",
      "Gradient Descent(15/49): loss=15.385887868829633, w0=73.29392179852036, w1=13.479712454447405\n",
      "Gradient Descent(16/49): loss=15.385887868829421, w0=73.29392194102974, w1=13.479712440826555\n",
      "Gradient Descent(17/49): loss=15.3858878688294, w0=73.29392198378255, w1=13.4797124367403\n",
      "Gradient Descent(18/49): loss=15.3858878688294, w0=73.2939219966084, w1=13.479712435514424\n",
      "Gradient Descent(19/49): loss=15.3858878688294, w0=73.29392200045615, w1=13.479712435146661\n",
      "Gradient Descent(20/49): loss=15.385887868829398, w0=73.29392200161048, w1=13.479712435036332\n",
      "Gradient Descent(21/49): loss=15.3858878688294, w0=73.29392200195677, w1=13.479712435003233\n",
      "Gradient Descent(22/49): loss=15.3858878688294, w0=73.29392200206067, w1=13.479712434993305\n",
      "Gradient Descent(23/49): loss=15.3858878688294, w0=73.29392200209183, w1=13.479712434990326\n",
      "Gradient Descent(24/49): loss=15.3858878688294, w0=73.29392200210118, w1=13.479712434989432\n",
      "Gradient Descent(25/49): loss=15.3858878688294, w0=73.29392200210398, w1=13.479712434989164\n",
      "Gradient Descent(26/49): loss=15.3858878688294, w0=73.29392200210482, w1=13.479712434989084\n",
      "Gradient Descent(27/49): loss=15.385887868829403, w0=73.29392200210508, w1=13.47971243498906\n",
      "Gradient Descent(28/49): loss=15.3858878688294, w0=73.29392200210516, w1=13.479712434989052\n",
      "Gradient Descent(29/49): loss=15.3858878688294, w0=73.29392200210518, w1=13.47971243498905\n",
      "Gradient Descent(30/49): loss=15.3858878688294, w0=73.29392200210519, w1=13.479712434989048\n",
      "Gradient Descent(31/49): loss=15.3858878688294, w0=73.29392200210519, w1=13.479712434989048\n",
      "Gradient Descent(32/49): loss=15.3858878688294, w0=73.29392200210519, w1=13.479712434989048\n",
      "Gradient Descent(33/49): loss=15.3858878688294, w0=73.29392200210519, w1=13.479712434989048\n",
      "Gradient Descent(34/49): loss=15.3858878688294, w0=73.29392200210519, w1=13.479712434989048\n",
      "Gradient Descent(35/49): loss=15.3858878688294, w0=73.29392200210519, w1=13.479712434989048\n",
      "Gradient Descent(36/49): loss=15.3858878688294, w0=73.29392200210519, w1=13.479712434989048\n",
      "Gradient Descent(37/49): loss=15.3858878688294, w0=73.29392200210519, w1=13.479712434989048\n",
      "Gradient Descent(38/49): loss=15.3858878688294, w0=73.29392200210519, w1=13.479712434989048\n",
      "Gradient Descent(39/49): loss=15.3858878688294, w0=73.29392200210519, w1=13.479712434989048\n",
      "Gradient Descent(40/49): loss=15.3858878688294, w0=73.29392200210519, w1=13.479712434989048\n",
      "Gradient Descent(41/49): loss=15.3858878688294, w0=73.29392200210519, w1=13.479712434989048\n",
      "Gradient Descent(42/49): loss=15.3858878688294, w0=73.29392200210519, w1=13.479712434989048\n",
      "Gradient Descent(43/49): loss=15.3858878688294, w0=73.29392200210519, w1=13.479712434989048\n",
      "Gradient Descent(44/49): loss=15.3858878688294, w0=73.29392200210519, w1=13.479712434989048\n",
      "Gradient Descent(45/49): loss=15.3858878688294, w0=73.29392200210519, w1=13.479712434989048\n",
      "Gradient Descent(46/49): loss=15.3858878688294, w0=73.29392200210519, w1=13.479712434989048\n",
      "Gradient Descent(47/49): loss=15.3858878688294, w0=73.29392200210519, w1=13.479712434989048\n",
      "Gradient Descent(48/49): loss=15.3858878688294, w0=73.29392200210519, w1=13.479712434989048\n",
      "Gradient Descent(49/49): loss=15.3858878688294, w0=73.29392200210519, w1=13.479712434989048\n",
      "Gradient Descent: execution time=0.014 seconds\n"
     ]
    }
   ],
   "source": [
    "# from gradient_descent import *\n",
    "from plots import gradient_descent_visualization\n",
    "\n",
    "# Define the parameters of the algorithm.\n",
    "max_iters = 50\n",
    "gamma = 0.7\n",
    "\n",
    "# Initialization\n",
    "w_initial = np.random.randint(-10,50,(2,))\n",
    "print(w_initial.shape)\n",
    "# Start gradient descent.\n",
    "start_time = datetime.datetime.now()\n",
    "gradient_losses, gradient_ws = gradient_descent(y, tx, w_initial, max_iters, gamma)\n",
    "end_time = datetime.datetime.now()\n",
    "\n",
    "# Print result\n",
    "exection_time = (end_time - start_time).total_seconds()\n",
    "print(\"Gradient Descent: execution time={t:.3f} seconds\".format(t=exection_time))"
   ]
  },
  {
   "cell_type": "code",
   "execution_count": 48,
   "metadata": {
    "scrolled": false,
    "tags": []
   },
   "outputs": [
    {
     "data": {
      "application/vnd.jupyter.widget-view+json": {
       "model_id": "28616708f59642609500cf16f973975c",
       "version_major": 2,
       "version_minor": 0
      },
      "text/plain": [
       "interactive(children=(IntSlider(value=1, description='n_iter', max=51, min=1), Output()), _dom_classes=('widge…"
      ]
     },
     "metadata": {},
     "output_type": "display_data"
    },
    {
     "data": {
      "text/plain": [
       "<function __main__.plot_figure(n_iter)>"
      ]
     },
     "execution_count": 48,
     "metadata": {},
     "output_type": "execute_result"
    }
   ],
   "source": [
    "# Time Visualization\n",
    "from ipywidgets import IntSlider, interact\n",
    "\n",
    "def plot_figure(n_iter):\n",
    "    fig = gradient_descent_visualization(\n",
    "        gradient_losses, gradient_ws, grid_losses, grid_w0, grid_w1, mean_x, std_x, height, weight, n_iter)\n",
    "    fig.set_size_inches(10.0, 6.0)\n",
    "\n",
    "interact(plot_figure, n_iter=IntSlider(min=1, max=len(gradient_ws)))"
   ]
  },
  {
   "cell_type": "markdown",
   "metadata": {},
   "source": [
    "# 4 Stochastic gradient descent"
   ]
  },
  {
   "cell_type": "code",
   "execution_count": 63,
   "metadata": {
    "tags": []
   },
   "outputs": [],
   "source": [
    "def compute_stoch_gradient(y, tx, w):\n",
    "    \"\"\"Compute a stochastic gradient from just few examples n and their corresponding y_n labels.\"\"\"\n",
    "    e = y - tx.dot(w)\n",
    "    grad = (-1 * (tx.T.dot(e))) / len(tx)\n",
    "    return grad , e\n",
    "\n",
    "def stochastic_gradient_descent(\n",
    "        y, tx, initial_w, batch_size, max_iters, gamma):\n",
    "    \"\"\"Stochastic gradient descent.\"\"\"\n",
    "    ws = [initial_w]\n",
    "    losses = []\n",
    "    w = initial_w \n",
    "    for n_iter in range(max_iters):\n",
    "        for y_batch, tx_batch in batch_iter(y, tx, batch_size=batch_size, num_batches=1000):\n",
    "            grad, _ = compute_stoch_gradient(y_batch, tx_batch, w)\n",
    "            w = w - gamma * grad\n",
    "            loss = compute_loss(y, tx, w)\n",
    "            ws.append(w)\n",
    "            losses.append(loss)\n",
    "        print(\"SGD({bi}/{ti}): loss={l}, w0={w0}, w1={w1}\".format(\n",
    "              bi=n_iter, ti=max_iters - 1, l=loss, w0=w[0], w1=w[1]))\n",
    "    return losses, ws"
   ]
  },
  {
   "cell_type": "code",
   "execution_count": 64,
   "metadata": {
    "tags": []
   },
   "outputs": [
    {
     "name": "stdout",
     "output_type": "stream",
     "text": [
      "SGD(0/49): loss=1376.102095715475, w0=53.894708948818376, w1=61.90597543975202\n",
      "SGD(1/49): loss=24.751471173594474, w0=70.72267432576186, w1=16.96107021557253\n",
      "SGD(2/49): loss=169.10538189531826, w0=64.29109306826123, w1=-1.5664850660714782\n",
      "SGD(3/49): loss=47.24830665908185, w0=65.4361413367525, w1=12.072544855873346\n",
      "SGD(4/49): loss=193.93302691026796, w0=70.81526843873927, w1=32.21338678349021\n",
      "SGD(5/49): loss=18.21761662864754, w0=74.70610736124665, w1=11.564199440759364\n",
      "SGD(6/49): loss=378.34964701360474, w0=90.20888798974667, w1=34.451394387719574\n",
      "SGD(7/49): loss=166.76203754937168, w0=78.46776932137578, w1=-3.1330418001749933\n",
      "SGD(8/49): loss=33.148486859253424, w0=68.81708048888322, w1=9.54485690443389\n",
      "SGD(9/49): loss=18.485523171580404, w0=72.42244567995365, w1=11.14737463239028\n",
      "SGD(10/49): loss=27.234206615663062, w0=73.84249501873151, w1=18.316623136986433\n",
      "SGD(11/49): loss=31.780360360258218, w0=78.66978755796099, w1=15.45177087941226\n",
      "SGD(12/49): loss=21.03981133967402, w0=69.96746849872828, w1=13.972210182761286\n",
      "SGD(13/49): loss=58.160381043597404, w0=82.27666415777976, w1=11.275323695632286\n",
      "SGD(14/49): loss=24.85193209003435, w0=70.31310768277265, w1=16.649386619518427\n",
      "SGD(15/49): loss=7701.561791196708, w0=1.110246283771275, w1=-87.32638245240446\n",
      "SGD(16/49): loss=41.51902516504022, w0=71.23761496178864, w1=6.548776282609181\n",
      "SGD(17/49): loss=116.33167377193347, w0=86.46816840452487, w1=18.802381270689825\n",
      "SGD(18/49): loss=84.92895320828048, w0=82.88033965473504, w1=6.610452848377928\n",
      "SGD(19/49): loss=45.55280698211947, w0=79.0606757753012, w1=18.683402389810503\n",
      "SGD(20/49): loss=62.369019887843415, w0=63.89009838464751, w1=11.127189234301493\n",
      "SGD(21/49): loss=67.89491625609773, w0=66.67001765843935, w1=21.299044121297115\n",
      "SGD(22/49): loss=43.389765295430074, w0=71.40358420874179, w1=20.720871035667763\n",
      "SGD(23/49): loss=26.3466239719352, w0=76.98013483754855, w1=10.592965626205118\n",
      "SGD(24/49): loss=20.436617847062973, w0=74.18289209353297, w1=10.4282878278565\n",
      "SGD(25/49): loss=586.9216538545822, w0=76.33799832102532, w1=47.1517354115804\n",
      "SGD(26/49): loss=17.562176502437058, w0=71.35902586444453, w1=12.699485414384663\n",
      "SGD(27/49): loss=45.13288948037827, w0=80.97841787081353, w1=12.814485806762118\n",
      "SGD(28/49): loss=35.84901232218045, w0=72.3697487553151, w1=7.149455511560144\n",
      "SGD(29/49): loss=31.315236927401163, w0=78.85618571342151, w1=14.43883730846337\n",
      "SGD(30/49): loss=25.79146680197459, w0=73.4595469794285, w1=8.92079521341362\n",
      "SGD(31/49): loss=19.965141232711105, w0=72.83350616781215, w1=16.470786487448407\n",
      "SGD(32/49): loss=26.36024866784346, w0=75.30387198051696, w1=17.711594130205807\n",
      "SGD(33/49): loss=23.911948886507332, w0=73.67094639331467, w1=9.367538479063914\n",
      "SGD(34/49): loss=69.89653823539302, w0=63.681865972424, w1=17.557662853446416\n",
      "SGD(35/49): loss=87.16765835091338, w0=75.23595759134497, w1=25.30308076784133\n",
      "SGD(36/49): loss=420.2275499024148, w0=71.90585201735438, w1=-14.941346408491864\n",
      "SGD(37/49): loss=38.0369634497044, w0=75.72395342068809, w1=7.203001635019853\n",
      "SGD(38/49): loss=64.61610261705191, w0=80.75185992498164, w1=20.02490849278337\n",
      "SGD(39/49): loss=218.316113234138, w0=78.75314650856674, w1=32.871909796780386\n",
      "SGD(40/49): loss=53.43621575140889, w0=75.94291587616716, w1=5.168064751145547\n",
      "SGD(41/49): loss=92.04376667017226, w0=77.86851117883795, w1=1.973675260235742\n",
      "SGD(42/49): loss=20.05213030144119, w0=76.19324388873522, w1=12.517206610107129\n",
      "SGD(43/49): loss=152.76493636075776, w0=71.01733303539189, w1=29.89845902723828\n",
      "SGD(44/49): loss=110.85330492800873, w0=73.35929794051098, w1=-0.3380500504872508\n",
      "SGD(45/49): loss=227.27896021443968, w0=52.7100900435189, w1=13.783038318985827\n",
      "SGD(46/49): loss=40.98492942445807, w0=66.27269062329512, w1=12.101164997839998\n",
      "SGD(47/49): loss=1652.3119235825616, w0=56.15862837694925, w1=68.07122994281394\n",
      "SGD(48/49): loss=104.48937718928082, w0=75.22277608873333, w1=0.2703785928378599\n",
      "SGD(49/49): loss=31.02962702857305, w0=71.04506173400918, w1=8.358178893747082\n",
      "SGD: execution time=8.087 seconds\n"
     ]
    }
   ],
   "source": [
    "# from stochastic_gradient_descent import *\n",
    "\n",
    "# Define the parameters of the algorithm.\n",
    "max_iters = 50\n",
    "gamma = 0.7\n",
    "batch_size = 1\n",
    "\n",
    "# Initialization\n",
    "w_initial = np.random.randint(-10,10,(2,))\n",
    "\n",
    "# Start SGD.\n",
    "start_time = datetime.datetime.now()\n",
    "sgd_losses, sgd_ws = stochastic_gradient_descent(\n",
    "    y, tx, w_initial, batch_size, max_iters, gamma)\n",
    "end_time = datetime.datetime.now()\n",
    "\n",
    "# Print result\n",
    "exection_time = (end_time - start_time).total_seconds()\n",
    "print(\"SGD: execution time={t:.3f} seconds\".format(t=exection_time))"
   ]
  },
  {
   "cell_type": "code",
   "execution_count": 67,
   "metadata": {
    "tags": []
   },
   "outputs": [
    {
     "data": {
      "application/vnd.jupyter.widget-view+json": {
       "model_id": "6d229fd692934ed7b4315bfeb88ae408",
       "version_major": 2,
       "version_minor": 0
      },
      "text/plain": [
       "interactive(children=(IntSlider(value=1, description='n_iter', max=50, min=1), Output()), _dom_classes=('widge…"
      ]
     },
     "metadata": {},
     "output_type": "display_data"
    },
    {
     "data": {
      "text/plain": [
       "<function __main__.plot_figure(n_iter)>"
      ]
     },
     "execution_count": 67,
     "metadata": {},
     "output_type": "execute_result"
    }
   ],
   "source": [
    "# Time Visualization\n",
    "from ipywidgets import IntSlider, interact\n",
    "def plot_figure(n_iter):\n",
    "    fig = gradient_descent_visualization(\n",
    "        sgd_losses, sgd_ws, grid_losses, grid_w0, grid_w1, mean_x, std_x, height, weight, n_iter)\n",
    "    fig.set_size_inches(10.0, 6.0)\n",
    "\n",
    "interact(plot_figure, n_iter=IntSlider(min=1, max=max_iters))"
   ]
  },
  {
   "cell_type": "markdown",
   "metadata": {},
   "source": [
    "# 5 Effect of Outliers"
   ]
  },
  {
   "cell_type": "markdown",
   "metadata": {},
   "source": [
    "### Exercise 5\n"
   ]
  },
  {
   "cell_type": "code",
   "execution_count": null,
   "metadata": {},
   "outputs": [],
   "source": []
  },
  {
   "cell_type": "code",
   "execution_count": null,
   "metadata": {
    "tags": []
   },
   "outputs": [],
   "source": [
    "height, weight, gender = load_data(sub_sample = True, add_outlier = False)\n",
    "x, mean_x, std_x = standardize(height)\n",
    "y, tx = build_model_data(x, weight)\n",
    "\n",
    "plt.figure(0)\n",
    "plt.scatter(height, weight, marker = \".\", color = 'b', s = 5)\n",
    "plt.show()\n",
    "\n",
    "max_iters = 40\n",
    "gamma = 0.1\n",
    "batch_size = 1\n",
    "\n",
    "w_initial = np.array([0, 0])\n",
    "\n",
    "sgd_losses, sgd_ws = stochastic_gradient_descent(y, tx, w_initial, batch_size, max_iters, gamma)\n",
    "\n",
    "from plots import prediction\n",
    "\n",
    "plt.figure(1)\n",
    "plt.scatter(height, weight, marker = \".\", color = 'b', s = 5)\n",
    "pred_x, pred_y = prediction(sgd_ws[-1][0], sgd_ws[-1][1], mean_x, std_x)\n",
    "plt.plot(pred_x, pred_y, 'r')\n",
    "\n",
    "height, weight, gender = load_data(sub_sample = True, add_outlier = True)\n",
    "x, mean_x, std_x = standardize(height)\n",
    "y, tx = build_model_data(x, weight)\n",
    "\n",
    "plt.figure(2)\n",
    "plt.scatter(height, weight, marker = \".\", color = 'b', s = 5)\n",
    "plt.show()\n",
    "\n",
    "sgd_losses, sgd_ws = stochastic_gradient_descent(y, tx, w_initial, batch_size, max_iters, gamma)\n",
    "\n",
    "plt.figure(3)\n",
    "plt.scatter(height, weight, marker = \".\", color = 'b', s = 5)\n",
    "pred_x, pred_y = prediction(sgd_ws[-1][0], sgd_ws[-1][1], mean_x, std_x)\n",
    "plt.plot(pred_x, pred_y, 'r')"
   ]
  },
  {
   "cell_type": "code",
   "execution_count": null,
   "metadata": {},
   "outputs": [],
   "source": []
  },
  {
   "cell_type": "markdown",
   "metadata": {},
   "source": [
    "# 6 Subgradient Descent"
   ]
  },
  {
   "cell_type": "markdown",
   "metadata": {},
   "source": [
    "### Exercise 6"
   ]
  },
  {
   "cell_type": "markdown",
   "metadata": {},
   "source": [
    "Modify the function `compute_loss(y, tx, w)` for the Mean Absolute Error cost function [here](#compute_loss)"
   ]
  },
  {
   "cell_type": "code",
   "execution_count": null,
   "metadata": {},
   "outputs": [],
   "source": [
    "np.sign(y - tx.dot(w))"
   ]
  },
  {
   "cell_type": "code",
   "execution_count": 68,
   "metadata": {
    "tags": []
   },
   "outputs": [],
   "source": [
    "\n",
    "def compute_loss_mae(y, tx, w):\n",
    "    \"\"\"Calculate the loss.\n",
    "    You can calculate the loss using mse or mae.\n",
    "    \"\"\"\n",
    "    e = np.abs(y - tx.dot(w))\n",
    "    cost = np.mean(e)\n",
    "    return cost"
   ]
  },
  {
   "cell_type": "code",
   "execution_count": 73,
   "metadata": {},
   "outputs": [],
   "source": [
    "def compute_stoch_gradient2(y, tx, w):\n",
    "    e = y - tx.dot(w)\n",
    "    gradient = -tx.T.dot(e) / len(e)\n",
    "    return gradient , e\n",
    "\n",
    "\n",
    "def stochastic_gradient_descent2(\n",
    "        y, tx, initial_w, batch_size, max_iters, gamma):\n",
    "    ws = [initial_w]\n",
    "    losses = []\n",
    "    w = initial_w \n",
    "    for n_iter in range(max_iters):\n",
    "        for y_batch, tx_batch in batch_iter(y, tx, batch_size=batch_size, num_batches=1):\n",
    "            grad , e = compute_stoch_gradient2(y_batch, tx_batch, w)\n",
    "            w = w - gamma * grad\n",
    "            loss = compute_loss(y, tx, w)\n",
    "            ws.append(w)\n",
    "            losses.append(loss)\n",
    "        print(\"SGD({bi}/{ti}): loss={l}, w0={w0}, w1={w1}\".format(\n",
    "              bi=n_iter, ti=max_iters - 1, l=loss, w0=w[0], w1=w[1]))\n",
    "    return losses, ws"
   ]
  },
  {
   "cell_type": "code",
   "execution_count": 74,
   "metadata": {},
   "outputs": [
    {
     "name": "stdout",
     "output_type": "stream",
     "text": [
      "SGD(0/99): loss=1914.7772117317463, w0=58.35992879663772, w1=73.27735866512826\n",
      "SGD(1/99): loss=1598.1902695498363, w0=21.084583246133136, w1=34.45097157759099\n",
      "SGD(2/99): loss=1650.253769101321, w0=44.36286312884208, w1=62.80242114950272\n",
      "SGD(3/99): loss=1596.3112259309412, w0=34.065181555646966, w1=53.76564793497008\n",
      "SGD(4/99): loss=445.8777425892244, w0=69.84333193669207, w1=42.61864065208828\n",
      "SGD(5/99): loss=333.02196385027236, w0=77.26074931337499, w1=38.37020124186968\n",
      "SGD(6/99): loss=302.39202692291246, w0=50.58690234013461, w1=5.8374918035856425\n",
      "SGD(7/99): loss=268.50806159841085, w0=59.61812822160893, w1=-4.386932799427601\n",
      "SGD(8/99): loss=287.31481896744157, w0=69.98272558134352, w1=-9.604781071699797\n",
      "SGD(9/99): loss=142.57182091480502, w0=88.74225974936435, w1=17.4446496272481\n",
      "SGD(10/99): loss=51.43564773472431, w0=78.25354596424505, w1=6.587568364675526\n",
      "SGD(11/99): loss=59.779603589366026, w0=80.95621718440012, w1=7.995492893390346\n",
      "SGD(12/99): loss=17.18419628107992, w0=72.48510062091177, w1=11.76436267536992\n",
      "SGD(13/99): loss=117.65569124662927, w0=60.60206307237013, w1=20.071853488038805\n",
      "SGD(14/99): loss=16.445264883116234, w0=73.0008021412012, w1=12.05393728591494\n",
      "SGD(15/99): loss=22.122123588225996, w0=69.65515499596512, w1=13.961216447246079\n",
      "SGD(16/99): loss=185.31645071112317, w0=77.5548577170177, w1=-4.456439675147907\n",
      "SGD(17/99): loss=119.63482127495239, w0=67.27488209145058, w1=0.35458289786854635\n",
      "SGD(18/99): loss=136.3213673318074, w0=71.71673947140542, w1=-1.9923092231786859\n",
      "SGD(19/99): loss=155.80423237409784, w0=90.05125397964987, w1=13.648573338976288\n",
      "SGD(20/99): loss=28.867294767638114, w0=68.28295537014748, w1=14.840971855901826\n",
      "SGD(21/99): loss=44.11718453364435, w0=72.24953200176517, w1=5.971593971830673\n",
      "SGD(22/99): loss=45.927834211707044, w0=69.14306649787008, w1=6.8574551711313205\n",
      "SGD(23/99): loss=58.67536208831805, w0=64.0109527677587, w1=14.116446785526033\n",
      "SGD(24/99): loss=79.86007823570836, w0=71.28727916817952, w1=2.302871858564389\n",
      "SGD(25/99): loss=80.91954997466168, w0=71.65705801888376, w1=2.148869548773696\n",
      "SGD(26/99): loss=83.7985751475596, w0=73.41299790450914, w1=1.7830806340419452\n",
      "SGD(27/99): loss=279.0121418176948, w0=58.21012969839002, w1=30.792474133693077\n",
      "SGD(28/99): loss=262.1076194399197, w0=53.25415510868954, w1=23.06361591946457\n",
      "SGD(29/99): loss=85.40444191120856, w0=71.72330644265742, w1=1.750676888569263\n",
      "SGD(30/99): loss=60.53002264262982, w0=82.78800669707397, w1=13.091607613632203\n",
      "SGD(31/99): loss=35.135686951166775, w0=79.02646398931223, w1=10.9033660821896\n",
      "SGD(32/99): loss=92.23946195159631, w0=74.3788305401682, w1=1.1294038708449214\n",
      "SGD(33/99): loss=66.34640744670378, w0=82.44607975428254, w1=9.21836902768088\n",
      "SGD(34/99): loss=95.83408768825663, w0=85.96716726218307, w1=12.945620479640501\n",
      "SGD(35/99): loss=60.89460950411661, w0=78.8743866225763, w1=21.217661639412967\n",
      "SGD(36/99): loss=104.683110167417, w0=67.91048315599673, w1=1.248071875056553\n",
      "SGD(37/99): loss=527.4564161117528, w0=90.54488887098681, w1=40.43421481538176\n",
      "SGD(38/99): loss=489.50523766514686, w0=77.29413014804119, w1=44.012269392797585\n",
      "SGD(39/99): loss=423.7484873798352, w0=70.0139793151576, w1=41.86927345646929\n",
      "SGD(40/99): loss=260.81650159453625, w0=87.77689375481974, w1=30.245891387317055\n",
      "SGD(41/99): loss=199.42538358994136, w0=78.41673635784602, w1=31.96851349181368\n",
      "SGD(42/99): loss=732.4567163748969, w0=101.62966397569893, w1=-11.644526534938997\n",
      "SGD(43/99): loss=472.82141586281836, w0=88.48215459929074, w1=-12.677287518403295\n",
      "SGD(44/99): loss=6881.5524589783045, w0=34.92636772065447, w1=124.20578849965807\n",
      "SGD(45/99): loss=6881.318369968462, w0=39.77466292716636, w1=125.76650700704184\n",
      "SGD(46/99): loss=6186.265630468151, w0=1.2340226378961248, w1=98.03224278635518\n",
      "SGD(47/99): loss=6032.206082844831, w0=133.04616253899584, w1=-78.51653825368602\n",
      "SGD(48/99): loss=1200.250950445629, w0=27.619375040105652, w1=30.31912706168248\n",
      "SGD(49/99): loss=441.22713998873354, w0=53.4197194775285, w1=34.850219641228136\n",
      "SGD(50/99): loss=535.4338322736617, w0=41.81959803220647, w1=20.512693271556365\n",
      "SGD(51/99): loss=55.535186489703975, w0=68.3200188810439, w1=20.933495701495108\n",
      "SGD(52/99): loss=53.09831978404301, w0=66.28775713095595, w1=18.611818983834418\n",
      "SGD(53/99): loss=32.35365569622139, w0=71.66444100589202, w1=19.072594280492677\n",
      "SGD(54/99): loss=36.14973653552865, w0=66.86779812352646, w1=13.962028960269603\n",
      "SGD(55/99): loss=29.449355036500666, w0=75.16989361949827, w1=8.519101099067022\n",
      "SGD(56/99): loss=22.68708711487878, w0=73.54773223565616, w1=9.666842274933298\n",
      "SGD(57/99): loss=21.176372865701232, w0=72.94598574221791, w1=10.094463499858971\n",
      "SGD(58/99): loss=37.38097783283024, w0=78.55280358264487, w1=17.52128941060911\n",
      "SGD(59/99): loss=32.36392139141443, w0=71.94435746051198, w1=19.148463848946477\n",
      "SGD(60/99): loss=59.05928474333023, w0=65.55611488189527, w1=18.721194545941085\n",
      "SGD(61/99): loss=42.35442377108743, w0=70.80248093584811, w1=20.388387649375943\n",
      "SGD(62/99): loss=20.436533328267, w0=76.34626517366951, w1=14.365428011164543\n",
      "SGD(63/99): loss=16.605631503941336, w0=73.00790515540446, w1=15.015186835175273\n",
      "SGD(64/99): loss=16.52781963634248, w0=74.80445286059965, w1=13.52618888668372\n",
      "SGD(65/99): loss=18.679929360487574, w0=75.63435970024626, w1=12.42594093962753\n",
      "SGD(66/99): loss=18.677902626441995, w0=75.63361646001823, w1=12.426213807160716\n",
      "SGD(67/99): loss=17.390820752061785, w0=71.39169721934276, w1=12.854087433643036\n",
      "SGD(68/99): loss=19.44853959561496, w0=70.68726359305211, w1=12.326180731010353\n",
      "SGD(69/99): loss=19.4386452403823, w0=70.69138165362865, w1=12.32546008924422\n",
      "SGD(70/99): loss=18.75465087565588, w0=75.02133208759311, w1=15.417128345475897\n",
      "SGD(71/99): loss=47.539624990319886, w0=78.82774182506219, w1=19.283531213175458\n",
      "SGD(72/99): loss=50.90261644896843, w0=70.51502789606153, w1=21.436546271866238\n",
      "SGD(73/99): loss=69.12510013216367, w0=64.12554436292345, w1=18.31905908428177\n",
      "SGD(74/99): loss=78.92553166993004, w0=72.27010829647911, w1=24.706069506558322\n",
      "SGD(75/99): loss=107.72341996925259, w0=59.71121322462207, w1=13.049495667615338\n",
      "SGD(76/99): loss=18.189190840188814, w0=74.39944169975685, w1=11.385808869677836\n",
      "SGD(77/99): loss=18.148786535312095, w0=75.41854592414575, w1=12.47384439053273\n",
      "SGD(78/99): loss=18.18801126819966, w0=72.17866670263702, w1=11.391542802093129\n",
      "SGD(79/99): loss=23.26023221263003, w0=69.77621671014005, w1=11.642748045981547\n",
      "SGD(80/99): loss=22.21759329265997, w0=71.36215940819287, w1=10.328251800866788\n",
      "SGD(81/99): loss=23.1918991302585, w0=72.37004556408277, w1=9.638036387984927\n",
      "SGD(82/99): loss=22.9739607153545, w0=71.98152861691521, w1=9.811774418124559\n",
      "SGD(83/99): loss=22.842542079294308, w0=71.9155099455164, w1=9.872318829741555\n",
      "SGD(84/99): loss=59.19969879067091, w0=65.57876480706182, w1=8.17839455172138\n",
      "SGD(85/99): loss=63.709192147664886, w0=64.83441812667083, w1=8.471379105508866\n",
      "SGD(86/99): loss=144.5657105750553, w0=75.67497042110917, w1=29.375946386425802\n",
      "SGD(87/99): loss=127.41346494295075, w0=79.8597445735584, w1=26.931297029691578\n",
      "SGD(88/99): loss=79.9576041550489, w0=63.36768626823847, w1=7.946785837956824\n",
      "SGD(89/99): loss=25.00094056320369, w0=75.79066097026214, w1=17.084764433731255\n",
      "SGD(90/99): loss=27.903756920864353, w0=77.1138269543386, w1=16.711440186513386\n",
      "SGD(91/99): loss=55.88203048030065, w0=65.61076844855938, w1=18.166015529708687\n",
      "SGD(92/99): loss=78.3196905782685, w0=62.1383964909953, w1=12.287296404463362\n",
      "SGD(93/99): loss=32.07470771529741, w0=70.55062794459367, w1=8.395228448687387\n",
      "SGD(94/99): loss=26.93505227760577, w0=72.46524135440336, w1=8.745621476665875\n",
      "SGD(95/99): loss=24.9346793147947, w0=77.64759740078601, w1=13.101435532638423\n",
      "SGD(96/99): loss=27.647707615099485, w0=78.19080590754135, w1=12.742035331358673\n",
      "SGD(97/99): loss=23.679078357334074, w0=77.0629494245509, w1=11.936724014468133\n",
      "SGD(98/99): loss=27.178154596956674, w0=77.76355616465844, w1=11.580527370496533\n",
      "SGD(99/99): loss=31.135563561064085, w0=78.41563327424593, w1=11.184625284291766\n",
      "SGD: execution time=0.135 seconds\n"
     ]
    }
   ],
   "source": [
    "max_iters = 100\n",
    "gamma = 0.7\n",
    "batch_size = 1\n",
    "\n",
    "w_initial = np.array([0, 0])\n",
    "\n",
    "start_time = datetime.datetime.now()\n",
    "sgd_losses2, sgd_ws2 = stochastic_gradient_descent2(\n",
    "    y, tx, w_initial, batch_size, max_iters, gamma)\n",
    "end_time = datetime.datetime.now()\n",
    "\n",
    "exection_time = (end_time - start_time).total_seconds()\n",
    "print(\"SGD: execution time={t:.3f} seconds\".format(t=exection_time))"
   ]
  },
  {
   "cell_type": "code",
   "execution_count": 75,
   "metadata": {},
   "outputs": [
    {
     "data": {
      "application/vnd.jupyter.widget-view+json": {
       "model_id": "b485cdf0711744c9a3697a7d7b4fb71b",
       "version_major": 2,
       "version_minor": 0
      },
      "text/plain": [
       "interactive(children=(IntSlider(value=1, description='n_iter', max=51, min=1), Output()), _dom_classes=('widge…"
      ]
     },
     "metadata": {},
     "output_type": "display_data"
    },
    {
     "data": {
      "text/plain": [
       "<function __main__.plot_figure(n_iter)>"
      ]
     },
     "execution_count": 75,
     "metadata": {},
     "output_type": "execute_result"
    }
   ],
   "source": [
    "def plot_figure(n_iter):\n",
    "    fig = gradient_descent_visualization(\n",
    "        sgd_losses2, sgd_ws2, grid_losses, grid_w0, grid_w1, mean_x, std_x, height, weight, n_iter)\n",
    "    fig.set_size_inches(10.0, 6.0)\n",
    "\n",
    "interact(plot_figure, n_iter=IntSlider(min=1, max=len(gradient_ws)))"
   ]
  },
  {
   "cell_type": "code",
   "execution_count": null,
   "metadata": {},
   "outputs": [],
   "source": []
  },
  {
   "cell_type": "code",
   "execution_count": null,
   "metadata": {},
   "outputs": [],
   "source": []
  }
 ],
 "metadata": {
  "anaconda-cloud": {},
  "kernelspec": {
   "display_name": "Python 3 (ipykernel)",
   "language": "python",
   "name": "python3"
  },
  "language_info": {
   "codemirror_mode": {
    "name": "ipython",
    "version": 3
   },
   "file_extension": ".py",
   "mimetype": "text/x-python",
   "name": "python",
   "nbconvert_exporter": "python",
   "pygments_lexer": "ipython3",
   "version": "3.9.12"
  },
  "varInspector": {
   "cols": {
    "lenName": 16,
    "lenType": 16,
    "lenVar": 40
   },
   "kernels_config": {
    "python": {
     "delete_cmd_postfix": "",
     "delete_cmd_prefix": "del ",
     "library": "var_list.py",
     "varRefreshCmd": "print(var_dic_list())"
    },
    "r": {
     "delete_cmd_postfix": ") ",
     "delete_cmd_prefix": "rm(",
     "library": "var_list.r",
     "varRefreshCmd": "cat(var_dic_list()) "
    }
   },
   "types_to_exclude": [
    "module",
    "function",
    "builtin_function_or_method",
    "instance",
    "_Feature"
   ],
   "window_display": false
  }
 },
 "nbformat": 4,
 "nbformat_minor": 4
}
